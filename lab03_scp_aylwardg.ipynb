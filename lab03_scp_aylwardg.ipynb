{
 "cells": [
  {
   "cell_type": "code",
   "execution_count": 2,
   "metadata": {},
   "outputs": [],
   "source": [
    "import numpy as np\n",
    "import time"
   ]
  },
  {
   "cell_type": "code",
   "execution_count": 312,
   "metadata": {},
   "outputs": [],
   "source": [
    "def lab03_scp_aylwardg(A, c, k):\n",
    "    #A- adjacency matrx(numpy array 2D, eg. A in section 4.1)\n",
    "    #c- cost vector (numpy array)\n",
    "    #k- number of times an element should be covered\n",
    "    \n",
    "    #initialization\n",
    "    start_time = time.time()\n",
    "    S = []\n",
    "    Obj_cost = 0\n",
    "    \n",
    "    #Create covered array same size as A but all 0's\n",
    "    Covered = A*0\n",
    "    \n",
    "    #while loop\n",
    "    while(Covered.sum(axis = 1).min()<k):#check to see if the lowest value of covered is still <k\n",
    "        #print(\"Not at full coverage\")\n",
    "        #initialize ticker and min_u_j\n",
    "        i=0\n",
    "        min_u_j = 1000\n",
    "        \n",
    "        for column in A.T:\n",
    "            #Calculate number of uncovered elements by set j\n",
    "            n_j= column.sum()\n",
    "            \n",
    "            #pop the right cost\n",
    "            c_j = c[i]\n",
    "            \n",
    "            if n_j == 0:\n",
    "                n_j = .0001\n",
    "            \n",
    "            #Calculate u_j\n",
    "            u_j = c_j/n_j\n",
    "            \n",
    "            #Track and hold lowest u_j value\n",
    "            if u_j < min_u_j:\n",
    "                min_u_j = u_j\n",
    "                #print(\"u_j = \", min_u_j)\n",
    "                #track total cost\n",
    "                current_c_j = c_j \n",
    "                #print(\"c_j = \", c_j)\n",
    "                #Current set\n",
    "                set_j = i\n",
    "                #print(\"adding set index:\", set_j)\n",
    "                \n",
    "            #move index for cost vector over by one\n",
    "            i = i + 1    \n",
    "            \n",
    "        #select J that has minimum \n",
    "        S.append(A[:,set_j])\n",
    "        Obj_cost = Obj_cost + current_c_j\n",
    "          \n",
    "        #Add current set to covered\n",
    "        #print(A)\n",
    "        Covered[:,set_j] = Covered[:,set_j]+A[:,set_j]\n",
    "        #print(\"covered\")\n",
    "        #delete the selected column from A and its asociated cost\n",
    "        \n",
    "        A = np.delete(A, set_j, axis = 1)\n",
    "        c = np.delete(c, set_j, axis = 0)\n",
    "        #print(\"deleted\")\n",
    "        \n",
    "        \n",
    "    #x- Greedy solution\n",
    "    x = S\n",
    "    #Obj- Objective value of the greedy solution\n",
    "    Obj = Obj_cost\n",
    "    #Size- Number of selected sets in the greedy solution (int)\n",
    "    Size = len(S)\n",
    "    # Time- Computational time to run the greedy algorithm (float)\n",
    "    Time = time.time()-start_time\n",
    "    \n",
    "    return x, Obj, Size, Time"
   ]
  },
  {
   "cell_type": "code",
   "execution_count": 320,
   "metadata": {},
   "outputs": [],
   "source": [
    "#Input vars\n",
    "A = np.array(\n",
    "    [[1,0,0,1,0, 0, 1, 1, 0, 0],\n",
    "     [0,1,1,0,1, 0, 1, 0, 2, 0], \n",
    "     [1,0,1,0,0, 2, 1, 1, 1, 1]])\n",
    "c = np.array([3,2,1,4,5, 3, 1, 5, 1, 1])\n",
    "k=4"
   ]
  },
  {
   "cell_type": "code",
   "execution_count": 321,
   "metadata": {
    "scrolled": false
   },
   "outputs": [
    {
     "data": {
      "text/plain": [
       "([array([1, 1, 1]),\n",
       "  array([0, 2, 1]),\n",
       "  array([0, 1, 1]),\n",
       "  array([0, 0, 1]),\n",
       "  array([1, 0, 1]),\n",
       "  array([0, 0, 2]),\n",
       "  array([0, 1, 0]),\n",
       "  array([1, 0, 1]),\n",
       "  array([1, 0, 0])],\n",
       " 21,\n",
       " 9,\n",
       " 0.0017032623291015625)"
      ]
     },
     "execution_count": 321,
     "metadata": {},
     "output_type": "execute_result"
    }
   ],
   "source": [
    "#Testing\n",
    "lab03_scp_aylwardg(A, c, k)"
   ]
  },
  {
   "cell_type": "code",
   "execution_count": 315,
   "metadata": {},
   "outputs": [],
   "source": [
    "x, Obj, Size, Time = lab03_scp_aylwardg(A, c, k)"
   ]
  },
  {
   "cell_type": "code",
   "execution_count": null,
   "metadata": {},
   "outputs": [],
   "source": []
  }
 ],
 "metadata": {
  "kernelspec": {
   "display_name": "Python 3",
   "language": "python",
   "name": "python3"
  },
  "language_info": {
   "codemirror_mode": {
    "name": "ipython",
    "version": 3
   },
   "file_extension": ".py",
   "mimetype": "text/x-python",
   "name": "python",
   "nbconvert_exporter": "python",
   "pygments_lexer": "ipython3",
   "version": "3.8.3"
  }
 },
 "nbformat": 4,
 "nbformat_minor": 4
}
